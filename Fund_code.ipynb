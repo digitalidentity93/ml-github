{
  "nbformat": 4,
  "nbformat_minor": 0,
  "metadata": {
    "colab": {
      "name": "AB_code.ipynb",
      "provenance": [],
      "toc_visible": true,
      "authorship_tag": "ABX9TyMhxZOTJLLLQcvCg+ZUAIF5",
      "include_colab_link": true
    },
    "kernelspec": {
      "display_name": "Python 3",
      "name": "python3"
    }
  },
  "cells": [
    {
      "cell_type": "markdown",
      "metadata": {
        "id": "view-in-github",
        "colab_type": "text"
      },
      "source": [
        "<a href=\"https://colab.research.google.com/github/xaviguerrero93/ml-github/blob/branch1/Fund_code.ipynb\" target=\"_parent\"><img src=\"https://colab.research.google.com/assets/colab-badge.svg\" alt=\"Open In Colab\"/></a>"
      ]
    },
    {
      "cell_type": "markdown",
      "metadata": {
        "id": "nK6CM46Ssxmp"
      },
      "source": [
        "# Introduction\r\n",
        "User manual and recommendations"
      ]
    },
    {
      "cell_type": "markdown",
      "metadata": {
        "id": "f3gY5WrNoYrX"
      },
      "source": [
        "Source for tickers: https://finance.yahoo.com/\r\n",
        "\r\n",
        "Source for fees: https://www.morningstar.com/\r\n",
        "\r\n",
        "Source for inflation rates: https://www.inflation.eu/en/inflation-rates/cpi-inflation-2020.aspx\r\n",
        "\r\n",
        "Features already tested and working:\r\n",
        "\r\n",
        "1.   Adding/modifying actions/trackers/actives (available in yahoo finance)\r\n",
        "2.   Modifying portfolio weights/inflation/fees\r\n",
        "3.   Modifying evaluation day\r\n",
        "4.   Modifying index wrt you want to compare your portfolio (ACWI or SP500)\r\n",
        "\r\n",
        "For any suggestion, please contact xaviguerrerofx@gmail.com"
      ]
    },
    {
      "cell_type": "markdown",
      "metadata": {
        "id": "bgYtkoU8x83q"
      },
      "source": [
        "**USER MANUAL**\r\n",
        "\r\n",
        "Go to the portfolio, and modify it as you want. It is recommended to copy the portfolio and create a second one. Be sure to set active the portfolio you want.\r\n",
        "\r\n",
        "You can modify:\r\n",
        "- Tickers of your portfolio. It can be actions, trackers, futures... as long as it is available in yahoo finance.\r\n",
        "- Weights of the tickers\r\n",
        "- Inflation rates of each country, fees of each ticker\r\n",
        "- Reference index to which compare your portfolio\r\n",
        "\r\n",
        "Once your portfolio defined, it is recommended use the command \r\n",
        "- \"Run all\" if it is the first time you use the notebook\r\n",
        "- \"Restart and run all\" otherwise.\r\n"
      ]
    },
    {
      "cell_type": "markdown",
      "metadata": {
        "id": "pZPz2irAsYvg"
      },
      "source": [
        "# Library import\r\n",
        "To launch every time you add/modify tickers"
      ]
    },
    {
      "cell_type": "code",
      "metadata": {
        "id": "jRJNQEI793NM"
      },
      "source": [
        "# To show two vars using the same cell without display\r\n",
        "from IPython.core.interactiveshell import InteractiveShell\r\n",
        "InteractiveShell.ast_node_interactivity = \"all\"\r\n",
        "\r\n",
        "%matplotlib inline\r\n",
        "\r\n",
        "# Libraries to import data\r\n",
        "import matplotlib.pyplot as plt\r\n",
        "import numpy as np\r\n",
        "import os\r\n",
        "import tarfile\r\n",
        "import urllib.request as urllib\r\n",
        "from urllib.error import HTTPError\r\n",
        "import pandas as pd\r\n",
        "\r\n",
        "yahoo_dir = \"yahoo_data/\"\r\n",
        "if(os.path.isdir(yahoo_dir)):\r\n",
        "  !rm -rf yahoo_data\r\n",
        "!mkdir yahoo_data"
      ],
      "execution_count": 1,
      "outputs": []
    },
    {
      "cell_type": "markdown",
      "metadata": {
        "id": "63u-SjwVshbI"
      },
      "source": [
        "# Portfolio 1\r\n",
        "You can copy this whole section to define an entire new portfolio. Make sure that the boolean `portfolio_active` is set to `True`, but only for the portfolio to use."
      ]
    },
    {
      "cell_type": "code",
      "metadata": {
        "id": "i-zHzO72tVfT"
      },
      "source": [
        "portfolio_active = True"
      ],
      "execution_count": 2,
      "outputs": []
    },
    {
      "cell_type": "code",
      "metadata": {
        "id": "HElmlDV3pCop"
      },
      "source": [
        "# Average inflations of each country (2020)\r\n",
        "inflation = {}\r\n",
        "inflation['USA'] = 1.24 #Inflation in percentage (CPI)\r\n",
        "inflation['China'] = 2.44\r\n",
        "inflation['Japan'] = 0.00\r\n",
        "inflation['Europe'] = 0.25"
      ],
      "execution_count": 3,
      "outputs": []
    },
    {
      "cell_type": "code",
      "metadata": {
        "id": "X5U9psBRWwdb",
        "colab": {
          "base_uri": "https://localhost:8080/",
          "height": 97
        },
        "outputId": "9a1a0252-a64d-4893-d676-412cd040080b"
      },
      "source": [
        "################################## PORTFOLIO ###################################\r\n",
        "#DATA TO BE COMPLETED BY THE USER\r\n",
        "\r\n",
        "if(portfolio_active):\r\n",
        "  ################################# TICKERS ####################################\r\n",
        "  # Init\r\n",
        "  tickers = [] \r\n",
        "  pf_weights = pd.DataFrame()\r\n",
        "  fees = {}\r\n",
        "\r\n",
        "  # Amundi SP500\r\n",
        "  active = True                 #Set to true if it is part of your portfolio\r\n",
        "  if(active):\r\n",
        "    name = \"PE500.PA\"           #Name of the ticker in yahoo finance\r\n",
        "    tickers.append(name)        \r\n",
        "    fees[name] = 0.15           # Annualized fees in percentage\r\n",
        "    pf_weights[name] = [0.49]   # Weight of this active in your portfolio\r\n",
        "    inflation[name] = inflation['USA']\r\n",
        "\r\n",
        "  # Lyxor Nasdaq\r\n",
        "  active = True\r\n",
        "  if(active):\r\n",
        "    name = \"PUST.PA\" \r\n",
        "    tickers.append(name)         \r\n",
        "    fees[name] = 0.30 \r\n",
        "    pf_weights[name] = [0.14]    \r\n",
        "    inflation[name] = inflation['USA']\r\n",
        "\r\n",
        "  # Amundi Russell 2000\r\n",
        "  active = False\r\n",
        "  if(active):\r\n",
        "    name = \"RS2K.PA\" \r\n",
        "    tickers.append(name)         \r\n",
        "    fees[name] = 0.35\r\n",
        "    pf_weights[name] = [0.05]    \r\n",
        "    inflation[name] = inflation['USA']\r\n",
        "\r\n",
        "  # Amundi Europe\r\n",
        "  active = True\r\n",
        "  if(active):\r\n",
        "    name = \"PCEU.PA\" \r\n",
        "    tickers.append(name)\r\n",
        "    fees[name] = 0.15 \r\n",
        "    pf_weights[name] = [0.2]\r\n",
        "    inflation[name] = inflation['Europe']\r\n",
        "\r\n",
        "  # BNP Europe Small Caps\r\n",
        "  active = False\r\n",
        "  if(active):\r\n",
        "    name = \"EESM.PA\" \r\n",
        "    tickers.append(name)\r\n",
        "    fees[name] = 0.25\r\n",
        "    pf_weights[name] = [0.0]\r\n",
        "    inflation[name] = inflation['Europe']\r\n",
        "\r\n",
        "  # Lyxor Asia pacific ex Japan\r\n",
        "  active = True\r\n",
        "  if(active):\r\n",
        "    name = \"PAEJ.PA\" \r\n",
        "    tickers.append(name)\r\n",
        "    fees[name] = 0.60\r\n",
        "    pf_weights[name] = [0.1]    \r\n",
        "    inflation[name] = inflation['China']\r\n",
        "\r\n",
        "  # Amundi Japan topix\r\n",
        "  active = True\r\n",
        "  if(active):\r\n",
        "    name = \"PTPXE.PA\" \r\n",
        "    tickers.append(name)\r\n",
        "    fees[name] = 0.20 \r\n",
        "    pf_weights[name] = [0.07]\r\n",
        "    inflation[name] = inflation['Japan']\r\n",
        "\r\n",
        "  ############################ END OF TICKERS ###################################\r\n",
        "  pf_weights\r\n",
        "  print(\"Sum of weights:\",pf_weights.sum(axis=1).item())\r\n",
        "\r\n",
        "  # Day you want to evaluate the portfolio, format dd/mm/yyyy. \r\n",
        "  # Evaluation will be done through one year, ending in eval_day\r\n",
        "  # Eval day cannot be before 01/01/2018 or after 29/01/2021\r\n",
        "  eval_day_str = \"29/01/2021\" \r\n",
        "\r\n",
        "\r\n",
        "  # Index to be compared with (comment the others, otherwise last row is used)\r\n",
        "  #idx_str = \"MSCI ACWI\" # Worldwide index (including Asia)\r\n",
        "  idx_str = \"S&P 500\"  # American economic index\r\n",
        "  "
      ],
      "execution_count": 4,
      "outputs": [
        {
          "output_type": "execute_result",
          "data": {
            "text/html": [
              "<div>\n",
              "<style scoped>\n",
              "    .dataframe tbody tr th:only-of-type {\n",
              "        vertical-align: middle;\n",
              "    }\n",
              "\n",
              "    .dataframe tbody tr th {\n",
              "        vertical-align: top;\n",
              "    }\n",
              "\n",
              "    .dataframe thead th {\n",
              "        text-align: right;\n",
              "    }\n",
              "</style>\n",
              "<table border=\"1\" class=\"dataframe\">\n",
              "  <thead>\n",
              "    <tr style=\"text-align: right;\">\n",
              "      <th></th>\n",
              "      <th>PE500.PA</th>\n",
              "      <th>PUST.PA</th>\n",
              "      <th>PCEU.PA</th>\n",
              "      <th>PAEJ.PA</th>\n",
              "      <th>PTPXE.PA</th>\n",
              "    </tr>\n",
              "  </thead>\n",
              "  <tbody>\n",
              "    <tr>\n",
              "      <th>0</th>\n",
              "      <td>0.49</td>\n",
              "      <td>0.14</td>\n",
              "      <td>0.2</td>\n",
              "      <td>0.1</td>\n",
              "      <td>0.07</td>\n",
              "    </tr>\n",
              "  </tbody>\n",
              "</table>\n",
              "</div>"
            ],
            "text/plain": [
              "   PE500.PA  PUST.PA  PCEU.PA  PAEJ.PA  PTPXE.PA\n",
              "0      0.49     0.14      0.2      0.1      0.07"
            ]
          },
          "metadata": {
            "tags": []
          },
          "execution_count": 4
        },
        {
          "output_type": "stream",
          "text": [
            "Sum of weights: 1.0\n"
          ],
          "name": "stdout"
        }
      ]
    },
    {
      "cell_type": "markdown",
      "metadata": {
        "id": "Fl2A4u_PthNh"
      },
      "source": [
        "# Internal calculation\r\n",
        "Make sure to launch it when modifying your portfolio\r\n",
        "Steps:\r\n",
        "1.   Preparing data of stickers and reference index\r\n",
        "2.   Calculating index performance (return, volatility)\r\n",
        "3.   Calculating portfolio performance (return, volatility, beta wrt index, correlation between actives)"
      ]
    },
    {
      "cell_type": "code",
      "metadata": {
        "colab": {
          "base_uri": "https://localhost:8080/"
        },
        "id": "hJiAecO18eXP",
        "outputId": "a3481a66-535d-428c-f17d-17108f84e016"
      },
      "source": [
        "############# SECTION 1 - PREPARING TRACKER DATA ###############################\r\n",
        "\r\n",
        "if(pf_weights.sum(axis=1).item() == 1):\r\n",
        "  pass\r\n",
        "else:\r\n",
        "  raise ValueError(\"The sum of weights is not equal to 1! Verify your weights\")\r\n",
        "\r\n",
        "# Set start and end date\r\n",
        "from datetime import datetime, timedelta\r\n",
        "\r\n",
        "eval_day = datetime.strptime(eval_day_str,'%d/%m/%Y') + timedelta(days=1)\r\n",
        "begin_day = eval_day - timedelta(days=367)\r\n",
        "\r\n",
        "url_evalday = str(int(datetime.timestamp(eval_day)))\r\n",
        "url_beginday = str(int(datetime.timestamp(begin_day)))\r\n",
        "\r\n",
        "td = \"1d\" #For daily comparison\r\n",
        "\r\n",
        "# Download data of tickers (yahoo finance)\r\n",
        "price = pd.DataFrame()\r\n",
        "date_yahoo = pd.DataFrame()\r\n",
        "try:\r\n",
        "  for i in tickers:\r\n",
        "    print(\"\\n\",i)\r\n",
        "    \r\n",
        "    url =\"https://query1.finance.yahoo.com/v7/finance/download/\"+i+\"?period1=\"+url_beginday+\"&period2=\"+url_evalday+\"&interval=\"+td+\"&events=history&includeAdjustedClose=true\"\r\n",
        "\r\n",
        "    urllib.urlretrieve(url, yahoo_dir+i+'.csv')\r\n",
        "    price[i] = pd.read_csv(yahoo_dir+i+\".csv\")['Adj Close']\r\n",
        "    date_yahoo[i] = pd.read_csv(yahoo_dir+i+\".csv\")['Date']\r\n",
        "except HTTPError:\r\n",
        "  raise ValueError(\"This ticker is not available!Verify availability in yahoo finance website\")\r\n",
        "\r\n",
        "\r\n",
        "# Convert tracker date to timestamp for comparison\r\n",
        "first_col = pf_weights.columns.values[0]\r\n",
        "date1 = []\r\n",
        "for i in range(len(date_yahoo[first_col])):\r\n",
        "  date1.append(datetime.timestamp(datetime.strptime(date_yahoo[first_col][i],'%Y-%m-%d')))\r\n",
        "date_yahoo['timestamp'] = date1\r\n",
        "\r\n",
        "# Drop rows where prices are not valid\r\n",
        "idx = price.index[price[first_col].isnull()].tolist()\r\n",
        "price.drop(index=idx,inplace=True)\r\n",
        "price.reset_index(drop=True,inplace=True)\r\n",
        "date_yahoo.drop(index=idx,inplace=True)\r\n",
        "date_yahoo.reset_index(drop=True,inplace=True)\r\n",
        "\r\n",
        "############# SECTION 2 - PREPARING INDEX DATA ################################\r\n",
        "\r\n",
        "# Ensuring index name validity and loading/formatting data of the index\r\n",
        "\r\n",
        "idx_ref = pd.DataFrame()\r\n",
        "date1 = []\r\n",
        "github_root = \"https://raw.githubusercontent.com/xaviguerrero93/ml-github/branch1/Investing/\"\r\n",
        "\r\n",
        "if(idx_str == \"MSCI ACWI\"): \r\n",
        "  idx_file = pd.read_csv(github_root+\"MSCI_ACWI_daily_4Y.csv\")\r\n",
        "  #Index1 - Create data\r\n",
        "  idx_ref['original_date'] = idx_file['Date']\r\n",
        "  idx_ref['price'] = idx_file['ACWI Standard (Large+Mid Cap)']\r\n",
        "  date_format = '%b %d, %Y'\r\n",
        "\r\n",
        "elif(idx_str == \"S&P 500\"):\r\n",
        "  idx_file = pd.read_csv(github_root+\"SP500_daily_5Y.csv\")\r\n",
        "  #Index2 - Create data\r\n",
        "  idx_ref['original_date'] = idx_file['Date']\r\n",
        "  idx_ref['price'] = idx_file[' Close/Last']\r\n",
        "  date_format = '%m/%d/%Y'\r\n",
        "\r\n",
        "else:\r\n",
        "  raise NameError(\"Index name is not valid\")\r\n",
        "\r\n",
        "#Convert date to timestamp\r\n",
        "for i in range(len(idx_ref['original_date'])):\r\n",
        "  date1.append(datetime.timestamp(datetime.strptime(idx_ref['original_date'][i],date_format))) \r\n",
        "idx_ref['timestamp'] = date1\r\n",
        "\r\n",
        "############# SECTION 3 - FILTERING VALID DATA ################################\r\n",
        "\r\n",
        "# Compare timestamp and save dates available in tracker and index\r\n",
        "idx2 = []\r\n",
        "rowstodrop = []\r\n",
        "\r\n",
        "for i in range(len(date_yahoo)):\r\n",
        "  if date_yahoo['timestamp'][i] in idx_ref['timestamp'].values:\r\n",
        "    idx2.append(idx_ref['original_date'].index[date_yahoo['timestamp'][i] == idx_ref['timestamp']].values.item())\r\n",
        "  else:\r\n",
        "    rowstodrop.append(i) #Raws not available in index are dropped\r\n",
        "\r\n",
        "# Drop rows not available in the index\r\n",
        "price.drop(index=rowstodrop,inplace=True)\r\n",
        "price.reset_index(drop=True,inplace=True)\r\n",
        "date_yahoo.drop(index=rowstodrop,inplace=True)\r\n",
        "date_yahoo.reset_index(drop=True,inplace=True)\r\n",
        "\r\n",
        "#Index treated prices\r\n",
        "price_idx = pd.DataFrame()\r\n",
        "price_idx[idx_str] = idx_ref['price'][idx2] \r\n",
        "price_idx.reset_index(drop=True,inplace=True)"
      ],
      "execution_count": 5,
      "outputs": [
        {
          "output_type": "stream",
          "text": [
            "\n",
            " PE500.PA\n"
          ],
          "name": "stdout"
        },
        {
          "output_type": "execute_result",
          "data": {
            "text/plain": [
              "('yahoo_data/PE500.PA.csv', <http.client.HTTPMessage at 0x7fef97b9a6a0>)"
            ]
          },
          "metadata": {
            "tags": []
          },
          "execution_count": 5
        },
        {
          "output_type": "stream",
          "text": [
            "\n",
            " PUST.PA\n"
          ],
          "name": "stdout"
        },
        {
          "output_type": "execute_result",
          "data": {
            "text/plain": [
              "('yahoo_data/PUST.PA.csv', <http.client.HTTPMessage at 0x7fef97b9aa90>)"
            ]
          },
          "metadata": {
            "tags": []
          },
          "execution_count": 5
        },
        {
          "output_type": "stream",
          "text": [
            "\n",
            " PCEU.PA\n"
          ],
          "name": "stdout"
        },
        {
          "output_type": "execute_result",
          "data": {
            "text/plain": [
              "('yahoo_data/PCEU.PA.csv', <http.client.HTTPMessage at 0x7fef97b9add8>)"
            ]
          },
          "metadata": {
            "tags": []
          },
          "execution_count": 5
        },
        {
          "output_type": "stream",
          "text": [
            "\n",
            " PAEJ.PA\n"
          ],
          "name": "stdout"
        },
        {
          "output_type": "execute_result",
          "data": {
            "text/plain": [
              "('yahoo_data/PAEJ.PA.csv', <http.client.HTTPMessage at 0x7fef97b9a278>)"
            ]
          },
          "metadata": {
            "tags": []
          },
          "execution_count": 5
        },
        {
          "output_type": "stream",
          "text": [
            "\n",
            " PTPXE.PA\n"
          ],
          "name": "stdout"
        },
        {
          "output_type": "execute_result",
          "data": {
            "text/plain": [
              "('yahoo_data/PTPXE.PA.csv', <http.client.HTTPMessage at 0x7fef97b9ad68>)"
            ]
          },
          "metadata": {
            "tags": []
          },
          "execution_count": 5
        }
      ]
    },
    {
      "cell_type": "code",
      "metadata": {
        "id": "42O29kt5JXQJ"
      },
      "source": [
        "# Calculating percentage return for treated index\r\n",
        "price_perc_idx = pd.DataFrame()\r\n",
        "perc = [0]\r\n",
        "for i in range(1,len(price_idx)):\r\n",
        "  perc.append(100*(price_idx[idx_str][i] - price_idx[idx_str][i-1]) / price_idx[idx_str][i-1])\r\n",
        "  \r\n",
        "price_perc_idx[idx_str] = perc\r\n",
        "perc.clear()\r\n",
        "\r\n",
        "# Calculating percentage return for treated tickers\r\n",
        "price_perc = pd.DataFrame()\r\n",
        "for column in price:\r\n",
        "  perc = [0]\r\n",
        "  for i in range(1,len(price)):\r\n",
        "    perc.append(100*(price[column][i] - price[column][i-1]) / price[column][i-1])\r\n",
        "  price_perc[column] = perc\r\n",
        "  perc.clear()"
      ],
      "execution_count": 6,
      "outputs": []
    },
    {
      "cell_type": "code",
      "metadata": {
        "colab": {
          "base_uri": "https://localhost:8080/"
        },
        "id": "qnHd2j_ji0Yw",
        "outputId": "f57ff16c-7c80-4b2d-c5e6-69aa7f0e3223"
      },
      "source": [
        "# CALCULATING INDEX PERFORMANCE\r\n",
        "idx_perf = pd.DataFrame()\r\n",
        "idx_perf['effective return'] = [100*(price_idx[idx_str].iloc[-1] - price_idx[idx_str][0]) / price_idx[idx_str][0]]\r\n",
        "print(idx_str,\"index effective return =\",round(idx_perf['effective return'].item(),2),\"%\")\r\n",
        "\r\n",
        "idx_perf['autobeta'] = price_idx[idx_str].cov(price_idx[idx_str],ddof=0)/price_idx.var(ddof=0).item()\r\n",
        "print(\"Beta wrt himself (should be 1) =\",round(idx_perf['autobeta'].item(),2))\r\n",
        "\r\n",
        "# Portfolio volatility\r\n",
        "idx_perf['volatility'] = price_perc_idx[idx_str].var(ddof=0)\r\n",
        "print(idx_str,\"index volatility =\",round(idx_perf['volatility'].item(),2),\"%\")"
      ],
      "execution_count": 7,
      "outputs": [
        {
          "output_type": "stream",
          "text": [
            "S&P 500 index effective return = 13.47 %\n",
            "Beta wrt himself (should be 1) = 1.0\n",
            "S&P 500 index volatility = 4.75 %\n"
          ],
          "name": "stdout"
        }
      ]
    },
    {
      "cell_type": "code",
      "metadata": {
        "colab": {
          "base_uri": "https://localhost:8080/"
        },
        "id": "Dow0t5djeDfJ",
        "outputId": "f1a97e32-46e5-464e-b7f7-b6ab0dfb25d5"
      },
      "source": [
        "# THIS SECTION CALCULATES EFFECTIVE RETURN OF THE PORTFOLIO AT THE EVAL DATE wrt ONE YEAR AGO\r\n",
        "\r\n",
        "# Net returns of each tracker\r\n",
        "net_return = {}\r\n",
        "for column in price:\r\n",
        "  net_return[column] = 100*(price[column].iloc[-1] - price[column][0]) / price[column][0]\r\n",
        "\r\n",
        "# effective returns of each tracker\r\n",
        "eff_return = {}\r\n",
        "for column in price:\r\n",
        "  eff_return[column] = net_return[column] - inflation[column] - fees[column] #LINE TO BE COMPLETED\r\n",
        "\r\n",
        "# Portfolio effective return\r\n",
        "pf = pd.DataFrame()\r\n",
        "pf_efr = np.fromiter(eff_return.values(), dtype=float)\r\n",
        "pf['Effective return'] = np.dot(pf_weights,pf_efr)\r\n",
        "print(\"Portfolio effective return =\",round(pf['Effective return'].item(),2),\"%\")\r\n",
        "\r\n",
        "# THIS SECTION CALCULATES THE PORTFOLIO RISK\r\n",
        "\r\n",
        "# Portfolio volatility\r\n",
        "covmat = price_perc.cov(ddof=0)\r\n",
        "pf['volatility'] = np.sqrt(np.dot(np.dot(pf_weights,covmat),np.transpose(pf_weights))).item()\r\n",
        "print(\"portfolio volatility =\",round(pf['volatility'].item(),2),\"%\")\r\n",
        "\r\n",
        "# Portfolio beta wrt AMUNDI world\r\n",
        "beta = []\r\n",
        "\r\n",
        "for i in tickers:\r\n",
        "  beta.append(price_perc_idx[idx_str].cov(price_perc[i],ddof=0)/price_perc_idx.var(ddof=0).item())\r\n",
        "\r\n",
        "pf['beta'] = np.dot(pf_weights,beta).item()\r\n",
        "print(\"portfolio beta (\",idx_str,\") =\",round(pf['beta'].item(),2))\r\n"
      ],
      "execution_count": 8,
      "outputs": [
        {
          "output_type": "stream",
          "text": [
            "Portfolio effective return = 6.17 %\n",
            "portfolio volatility = 1.57 %\n",
            "portfolio beta ( S&P 500 ) = 0.49\n"
          ],
          "name": "stdout"
        }
      ]
    },
    {
      "cell_type": "markdown",
      "metadata": {
        "id": "OxO3M1mauK-A"
      },
      "source": [
        "# Results of the analysis\r\n",
        "Run this section after internal calculations to evaluate your portfolio"
      ]
    },
    {
      "cell_type": "code",
      "metadata": {
        "colab": {
          "base_uri": "https://localhost:8080/"
        },
        "id": "7LjsJ5L2BJAV",
        "outputId": "5cda9e89-26c1-4b89-f91d-a54ecce20759"
      },
      "source": [
        "# This section calculates portfolio correlation between MSCI world and each stock\r\n",
        "for i in tickers:\r\n",
        "  corr_val = price_perc_idx[idx_str].corr(price_perc[i]).item()\r\n",
        "  print(\"Correlation between\",idx_str,\"and\",i,\":\",round(corr_val,2))\r\n",
        "\r\n",
        "# Portfolio correlation between stocks\r\n",
        "print(\"\\nCorrelation matrix for ETFs\\n\",price.corr())"
      ],
      "execution_count": 9,
      "outputs": [
        {
          "output_type": "stream",
          "text": [
            "Correlation between S&P 500 and PE500.PA : 0.57\n",
            "Correlation between S&P 500 and PUST.PA : 0.57\n",
            "Correlation between S&P 500 and PCEU.PA : 0.72\n",
            "Correlation between S&P 500 and PAEJ.PA : 0.73\n",
            "Correlation between S&P 500 and PTPXE.PA : 0.62\n",
            "\n",
            "Correlation matrix for ETFs\n",
            "           PE500.PA   PUST.PA   PCEU.PA   PAEJ.PA  PTPXE.PA\n",
            "PE500.PA  1.000000  0.893600  0.909620  0.938683  0.929269\n",
            "PUST.PA   0.893600  1.000000  0.673098  0.909323  0.819313\n",
            "PCEU.PA   0.909620  0.673098  1.000000  0.844281  0.877171\n",
            "PAEJ.PA   0.938683  0.909323  0.844281  1.000000  0.911729\n",
            "PTPXE.PA  0.929269  0.819313  0.877171  0.911729  1.000000\n"
          ],
          "name": "stdout"
        }
      ]
    },
    {
      "cell_type": "code",
      "metadata": {
        "id": "jkYTtm1TQYSS",
        "colab": {
          "base_uri": "https://localhost:8080/"
        },
        "outputId": "63c5a6b2-63b9-4972-899b-c68d88d55aaa"
      },
      "source": [
        "# Final analysis\r\n",
        "\r\n",
        "# Reference index\r\n",
        "print(idx_str,\":\")\r\n",
        "print(\"Effective return =\",round(idx_perf['effective return'].item(),2),\"%\")\r\n",
        "print(\"Volatility =\",round(idx_perf['volatility'].item(),2),\"%\\n\")\r\n",
        "\r\n",
        "#Portfolio\r\n",
        "print(\"PORTFOLIO:\")\r\n",
        "print(\"Weights\\n\",pf_weights,\"\\n\")\r\n",
        "print(\"Effective return =\",round(pf['Effective return'].item(),2),\"%\")\r\n",
        "print(\"Volatility =\",round(pf['volatility'].item(),2),\"%\")\r\n",
        "print(\"Beta* (\",idx_str,\") =\",round(pf['beta'].item(),2))\r\n",
        "#print(\"\\nCorrelation matrix for ETFs\\n\",price.corr())\r\n",
        "print(\"\"\"\\n\\n*Beta corresponds to the sensibility of your portfolio wrt the \r\n",
        "index.If beta=0.7, for each 1% of increase/decrease of the index, \r\n",
        "your portfolio will increase/decrease by 0.7%\"\"\")"
      ],
      "execution_count": 10,
      "outputs": [
        {
          "output_type": "stream",
          "text": [
            "S&P 500 :\n",
            "Effective return = 13.47 %\n",
            "Volatility = 4.75 %\n",
            "\n",
            "PORTFOLIO:\n",
            "Weights\n",
            "    PE500.PA  PUST.PA  PCEU.PA  PAEJ.PA  PTPXE.PA\n",
            "0      0.49     0.14      0.2      0.1      0.07 \n",
            "\n",
            "Effective return = 6.17 %\n",
            "Volatility = 1.57 %\n",
            "Beta* ( S&P 500 ) = 0.49\n",
            "\n",
            "\n",
            "*Beta corresponds to the sensibility of your portfolio wrt the \n",
            "index.If beta=0.7, for each 1% of increase/decrease of the index, \n",
            "your portfolio will increase/decrease by 0.7%\n"
          ],
          "name": "stdout"
        }
      ]
    }
  ]
}